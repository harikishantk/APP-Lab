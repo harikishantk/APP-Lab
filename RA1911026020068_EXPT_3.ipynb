{
  "nbformat": 4,
  "nbformat_minor": 0,
  "metadata": {
    "colab": {
      "name": "RA1911026020068 EXPT-3.ipynb",
      "provenance": [],
      "collapsed_sections": [],
      "authorship_tag": "ABX9TyMgX1uOFxldyudZCcuKePB0",
      "include_colab_link": true
    },
    "kernelspec": {
      "name": "python3",
      "display_name": "Python 3"
    }
  },
  "cells": [
    {
      "cell_type": "markdown",
      "metadata": {
        "id": "view-in-github",
        "colab_type": "text"
      },
      "source": [
        "<a href=\"https://colab.research.google.com/github/harikishantk/APP-Lab/blob/main/RA1911026020068_EXPT_3.ipynb\" target=\"_parent\"><img src=\"https://colab.research.google.com/assets/colab-badge.svg\" alt=\"Open In Colab\"/></a>"
      ]
    },
    {
      "cell_type": "markdown",
      "metadata": {
        "id": "ie-bWoIHv7vL"
      },
      "source": [
        "### OBJECT ORIENTED PROGRAMING\r\n",
        "\r\n",
        "\r\n",
        "\r\n",
        "* Name : Harikishan TK\r\n",
        "* Register No : RA1911026020068\r\n",
        "* Class & Sec : CSE AIML B II Year\r\n",
        "\r\n",
        "\r\n",
        "\r\n"
      ]
    },
    {
      "cell_type": "markdown",
      "metadata": {
        "id": "hXwYyJO8wakn"
      },
      "source": [
        "##Aim: \r\n",
        "To Write a Python Programs to implement Object Oriented Programming Paradigm"
      ]
    },
    {
      "cell_type": "markdown",
      "metadata": {
        "id": "a_8_Tt4hvwSR"
      },
      "source": [
        "##3a.\r\n",
        "Write a program to create bank account and to perform deposit and withdraw operations using class and objects"
      ]
    },
    {
      "cell_type": "code",
      "metadata": {
        "colab": {
          "base_uri": "https://localhost:8080/"
        },
        "id": "OtQNJ6IYkNxc",
        "outputId": "a87ad95d-a908-4d5c-8922-934ab0dccbb1"
      },
      "source": [
        "class BankAccount:\r\n",
        "  def __init__(self):\r\n",
        "    self.balance = 0\r\n",
        "\r\n",
        "  def withdraw(self,amount):\r\n",
        "    self.balance -= amount\r\n",
        "    return self.balance\r\n",
        "\r\n",
        "  def deposit(self,amount):\r\n",
        "    self.balance += amount\r\n",
        "    return self.balance\r\n",
        "\r\n",
        "a = BankAccount()\r\n",
        "b = BankAccount()\r\n",
        "print(a.deposit(100))\r\n",
        "print(b.deposit(50))\r\n",
        "print(b.withdraw(10))\r\n",
        "print(a.withdraw(10))"
      ],
      "execution_count": null,
      "outputs": [
        {
          "output_type": "stream",
          "text": [
            "100\n",
            "50\n",
            "40\n",
            "90\n"
          ],
          "name": "stdout"
        }
      ]
    },
    {
      "cell_type": "markdown",
      "metadata": {
        "id": "k0D4FIjGvpky"
      },
      "source": [
        "##3b.\r\n",
        "Write a program to create employee class using constructor and destructor and  to get ID, name, gender , city and salary"
      ]
    },
    {
      "cell_type": "code",
      "metadata": {
        "id": "kUHyTQKQl6hZ",
        "colab": {
          "base_uri": "https://localhost:8080/"
        },
        "outputId": "98f22feb-16db-4e70-efd9-9650a698d7b3"
      },
      "source": [
        "class Employee:\r\n",
        "  def __init__(self): #Constructor\r\n",
        "    self.__id = 0\r\n",
        "    self.__name = \"\" \r\n",
        "    self.__gender = \"\"\r\n",
        "    self.__city = \"\"\r\n",
        "    self.__salary = 0\r\n",
        "    print(\"Object Initialized.\")\r\n",
        "\r\n",
        "  def __del__(self): #Destructor\r\n",
        "    print(\"Object Destroyed.\")\r\n",
        "\r\n",
        "  def setData(self):\r\n",
        "    self.__id = int(input(\"Enter Id\\t:\"))\r\n",
        "    self.__name = input(\"Enter Name\\t:\")\r\n",
        "    self.__gender = input(\"Enter Gender:\")\r\n",
        "    self.__city = input(\"Enter City\\t:\")\r\n",
        "    self.__salary = int(input(\"Enter Salary:\"))\r\n",
        "\r\n",
        "  def __str__(self):\r\n",
        "    data = \"[\" + str(self.__id)+\",\"+self.__name+\",\"+self.__gender+\",\"+self.__city+\",\"+str(self.__salary)+\"]\"\r\n",
        "    return data\r\n",
        "\r\n",
        "  def showData(self):\r\n",
        "    print(\"Id\\t\\t:\",self.__id)\r\n",
        "    print(\"Name\\t\\t:\",self.__name)\r\n",
        "    print(\"Gender\\t\\t:\",self.__gender)\r\n",
        "    print(\"City\\t\\t:\",self.__city)\r\n",
        "    print(\"Salary\\t\\t:\",self.__salary)\r\n",
        "\r\n",
        "def main():\r\n",
        "    emp = Employee()\r\n",
        "    emp.setData()\r\n",
        "    emp.showData()\r\n",
        "    print(emp)\r\n",
        "\r\n",
        "if __name__ == \"__main__\":\r\n",
        "  main()\r\n"
      ],
      "execution_count": null,
      "outputs": [
        {
          "output_type": "stream",
          "text": [
            "Object Initialized.\n",
            "Enter Id\t:68\n",
            "Enter Name\t:Harikishan TK\n",
            "Enter Gender:MALE\n",
            "Enter City\t:CHENNAI\n",
            "Enter Salary:128000\n",
            "Id\t\t: 68\n",
            "Name\t\t: Harikishan TK\n",
            "Gender\t\t: MALE\n",
            "City\t\t: CHENNAI\n",
            "Salary\t\t: 128000\n",
            "[68,Harikishan TK,MALE,CHENNAI,128000]\n",
            "Object Destroyed.\n"
          ],
          "name": "stdout"
        }
      ]
    },
    {
      "cell_type": "markdown",
      "metadata": {
        "id": "U0TKyrlXvYVh"
      },
      "source": [
        "##3c.\r\n",
        "To create the student class that consists of name, id and age attribute and to create the object of the student, to print attribute name of the object, to reset the value of the age, to print the modified value of age  , to print true if the student contains the attribute with name and  to delete the attribute age."
      ]
    },
    {
      "cell_type": "code",
      "metadata": {
        "colab": {
          "base_uri": "https://localhost:8080/"
        },
        "id": "P3kQIpoZrEbG",
        "outputId": "1a2893f2-b0f9-4e34-a5d7-43c49799b815"
      },
      "source": [
        "class Student:\r\n",
        "  def __init__(self,name,id,age):\r\n",
        "    self.name = name\r\n",
        "    self.id = id\r\n",
        "    self.age = age\r\n",
        "\r\n",
        "s = Student(\"John\",101,22)\r\n",
        "print(getattr(s,\"name\"))\r\n",
        "setattr(s,\"age\",23)\r\n",
        "print(getattr(s,'age'))\r\n",
        "print(hasattr(s,'id'))\r\n",
        "delattr(s,'age')"
      ],
      "execution_count": null,
      "outputs": [
        {
          "output_type": "stream",
          "text": [
            "John\n",
            "23\n",
            "True\n"
          ],
          "name": "stdout"
        }
      ]
    },
    {
      "cell_type": "markdown",
      "metadata": {
        "id": "G__tSMonuz4p"
      },
      "source": [
        "##3d.\r\n",
        "To implement the object oriented concepts.There are 258 computers available in computer programming lab where each computers are used eight hours per day. Write a Python  program using classes and objects that contain getDetail() for getting input from  user,calculatesecondperDay() for calculating the usage of each computer in seconds per day, calculateminutesperWeek() for calculating the usage of each computer in minutes per week ,calculatehourperMonth() for calculating usage of each computer in hour per month and calculatedayperYear() for calculating usage of each computer in day per yearList all the Components of structured programming language.\r\n",
        "\r\n",
        "\r\n",
        "\r\n"
      ]
    },
    {
      "cell_type": "code",
      "metadata": {
        "colab": {
          "base_uri": "https://localhost:8080/"
        },
        "id": "M0yJhV5JsR_M",
        "outputId": "1b1e9a20-a3eb-4e40-d6a1-d76e5066e979"
      },
      "source": [
        "class calc:\r\n",
        "  def getDetail(self):\r\n",
        "    self.total_coomputer = 258\r\n",
        "    self.total_hour = 6\r\n",
        "\r\n",
        "  def calculatesecondsperDay(self):\r\n",
        "    Second_per_Day = self.total_hour*60*60\r\n",
        "    print('Total Seconds per Day:', Second_per_Day)\r\n",
        "  \r\n",
        "  def calculateminuteperWeek(self):\r\n",
        "    Minutes_per_Week = self.total_hour*30\r\n",
        "    print('Total Minutes per Week:', Minutes_per_Week)\r\n",
        "\r\n",
        "  def calculaehourperMonth(self):\r\n",
        "    Hour_per_month = self.total_hour*30\r\n",
        "    print('Total Hour per Month:', Hour_per_month)\r\n",
        "\r\n",
        "  def calculatedayperyear(self):\r\n",
        "    Day_per_Year = (self.total_hour*365)/24\r\n",
        "    print('Total Day per Year:', Day_per_Year)\r\n",
        "\r\n",
        "to = calc()\r\n",
        "to.getDetail()\r\n",
        "to.calculatesecondsperDay()\r\n",
        "to.calculateminuteperWeek()\r\n",
        "to.calculaehourperMonth()\r\n",
        "to.calculatedayperyear()\r\n",
        "\r\n",
        "  "
      ],
      "execution_count": null,
      "outputs": [
        {
          "output_type": "stream",
          "text": [
            "Total Seconds per Day: 21600\n",
            "Total Minutes per Week: 180\n",
            "Total Hour per Month: 180\n",
            "Total Day per Year: 91.25\n"
          ],
          "name": "stdout"
        }
      ]
    },
    {
      "cell_type": "markdown",
      "metadata": {
        "id": "OjYv1rcvuniC"
      },
      "source": [
        "##RESULT:\r\n",
        "\r\n",
        "Thus the Python program to implement objects oriented concepts have been written and executed successfully."
      ]
    }
  ]
}