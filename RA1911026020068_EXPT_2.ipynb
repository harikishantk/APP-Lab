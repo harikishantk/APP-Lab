{
  "nbformat": 4,
  "nbformat_minor": 0,
  "metadata": {
    "colab": {
      "name": "RA1911026020068_EXPT-2.ipynb",
      "provenance": [],
      "collapsed_sections": [],
      "authorship_tag": "ABX9TyMUPzfR8JQX4KRX9aKrlbvL",
      "include_colab_link": true
    },
    "kernelspec": {
      "name": "python3",
      "display_name": "Python 3"
    }
  },
  "cells": [
    {
      "cell_type": "markdown",
      "metadata": {
        "id": "view-in-github",
        "colab_type": "text"
      },
      "source": [
        "<a href=\"https://colab.research.google.com/github/harikishantk/APP-Lab/blob/main/RA1911026020068_EXPT_2.ipynb\" target=\"_parent\"><img src=\"https://colab.research.google.com/assets/colab-badge.svg\" alt=\"Open In Colab\"/></a>"
      ]
    },
    {
      "cell_type": "code",
      "metadata": {
        "colab": {
          "base_uri": "https://localhost:8080/"
        },
        "id": "jDMPUZNunQ60",
        "outputId": "77e294bf-2178-444f-d9a7-cdea3eebe377"
      },
      "source": [
        "from random import randint\r\n",
        "def get_random_ints(count, begin, end):\r\n",
        "  print(\"get_random_ints start\")\r\n",
        "  list_numbers = []\r\n",
        "  for x in range(0, count):\r\n",
        "    list_numbers.append(randint(begin,end))\r\n",
        "  print(\"get_random_ints end\")\r\n",
        "  return list_numbers\r\n",
        "\r\n",
        "print(type(get_random_ints))\r\n",
        "nums = get_random_ints(10,0,100)\r\n",
        "print(nums)"
      ],
      "execution_count": null,
      "outputs": [
        {
          "output_type": "stream",
          "text": [
            "<class 'function'>\n",
            "get_random_ints start\n",
            "get_random_ints end\n",
            "[57, 59, 15, 30, 27, 79, 55, 83, 98, 96]\n"
          ],
          "name": "stdout"
        }
      ]
    },
    {
      "cell_type": "code",
      "metadata": {
        "colab": {
          "base_uri": "https://localhost:8080/"
        },
        "id": "Zj7b9o0on58-",
        "outputId": "d3d67e3c-0c8e-4940-d5cf-58ff1f69f7fe"
      },
      "source": [
        "def fib_intervall(x):\r\n",
        "  if x<0:\r\n",
        "    return -1\r\n",
        "  (old,new) = (0,1)\r\n",
        "  while True:\r\n",
        "    if new<x:\r\n",
        "      (old,new) = (new, old+new)\r\n",
        "    else:\r\n",
        "      if new == x:\r\n",
        "        new = old + new  \r\n",
        "      return (old,new)\r\n",
        "\r\n",
        "while True:\r\n",
        "  x = int(input(\"Your number:\"))\r\n",
        "  if x<=0 :\r\n",
        "    break\r\n",
        "  (lub,sup) = fib_intervall(x)\r\n",
        "  print(\"Largest Fibonacci Number smaller than x:\" + str(lub))\r\n",
        "  print(\"Smallest Fibonacci Number larger than x:\" + str(sup))"
      ],
      "execution_count": 5,
      "outputs": [
        {
          "output_type": "stream",
          "text": [
            "Your number:5\n",
            "Largest Fibonacci Number smaller than x:3\n",
            "Smallest Fibonacci Number larger than x:8\n",
            "Your number:4\n",
            "Largest Fibonacci Number smaller than x:3\n",
            "Smallest Fibonacci Number larger than x:5\n",
            "Your number:9\n",
            "Largest Fibonacci Number smaller than x:8\n",
            "Smallest Fibonacci Number larger than x:13\n",
            "Your number:3\n",
            "Largest Fibonacci Number smaller than x:2\n",
            "Smallest Fibonacci Number larger than x:5\n",
            "Your number:-1\n"
          ],
          "name": "stdout"
        }
      ]
    },
    {
      "cell_type": "code",
      "metadata": {
        "colab": {
          "base_uri": "https://localhost:8080/"
        },
        "id": "iiSn9yPSoyaZ",
        "outputId": "21e9dd83-a992-4719-c2b7-2a1f5d64ece5"
      },
      "source": [
        "def hypensepwords():\r\n",
        "  items = [n for n in input().split('-')]\r\n",
        "  items.sort()\r\n",
        "  print('-'.join(items))\r\n",
        "\r\n",
        "hypensepwords()"
      ],
      "execution_count": null,
      "outputs": [
        {
          "output_type": "stream",
          "text": [
            "green-red-black-white\n",
            "black-green-red-white\n"
          ],
          "name": "stdout"
        }
      ]
    },
    {
      "cell_type": "code",
      "metadata": {
        "colab": {
          "base_uri": "https://localhost:8080/"
        },
        "id": "O8XL1dEkvpvg",
        "outputId": "e520a2e3-84cd-468f-809f-f8166eee91af"
      },
      "source": [
        "def make_bold(fn):\r\n",
        "  def wrapped():\r\n",
        "    x = fn()\r\n",
        "    return \"<b>\" + x + \"</b>\"\r\n",
        "  return wrapped\r\n",
        "\r\n",
        "def make_italic(fn):\r\n",
        "  def wrapped():\r\n",
        "    x = fn()\r\n",
        "    return \"<i>\" + x + \"</i>\"\r\n",
        "  return wrapped\r\n",
        "\r\n",
        "def make_underline(fn):\r\n",
        "  def wrapped():\r\n",
        "    x = fn()\r\n",
        "    return \"<u>\" + x + \"</u>\"\r\n",
        "  return wrapped\r\n",
        "\r\n",
        "@make_bold\r\n",
        "@make_italic\r\n",
        "@make_underline\r\n",
        "def hello():\r\n",
        "  return \"hello world\"\r\n",
        "\r\n",
        "print(hello())\r\n",
        "\r\n"
      ],
      "execution_count": 4,
      "outputs": [
        {
          "output_type": "stream",
          "text": [
            "<b><i><u>hello world</u></i></b>\n"
          ],
          "name": "stdout"
        }
      ]
    },
    {
      "cell_type": "code",
      "metadata": {
        "colab": {
          "base_uri": "https://localhost:8080/"
        },
        "id": "lTxvsl8ZwS3h",
        "outputId": "2682dc1e-e695-44b3-916b-74c2a6fe330c"
      },
      "source": [
        "def test(a):\r\n",
        "  def add(b):\r\n",
        "    nonlocal a\r\n",
        "    a+=1\r\n",
        "    return a+b\r\n",
        "  return add\r\n",
        "\r\n",
        "func = test(4)\r\n",
        "print(func(4))"
      ],
      "execution_count": null,
      "outputs": [
        {
          "output_type": "stream",
          "text": [
            "9\n"
          ],
          "name": "stdout"
        }
      ]
    },
    {
      "cell_type": "code",
      "metadata": {
        "colab": {
          "base_uri": "https://localhost:8080/"
        },
        "id": "CKqm2icawzC0",
        "outputId": "23b27fd5-7096-40fc-be79-1b79fe2931f4"
      },
      "source": [
        "def unique_list(l):\r\n",
        "  x = []\r\n",
        "  for a in l:\r\n",
        "    if a not in x:\r\n",
        "      x.append(a)\r\n",
        "  return x\r\n",
        "\r\n",
        "print(unique_list([1,2,3,3,3,3,4,5]))"
      ],
      "execution_count": null,
      "outputs": [
        {
          "output_type": "stream",
          "text": [
            "[1, 2, 3, 4, 5]\n"
          ],
          "name": "stdout"
        }
      ]
    },
    {
      "cell_type": "code",
      "metadata": {
        "colab": {
          "base_uri": "https://localhost:8080/"
        },
        "id": "lBltVXN6w9g5",
        "outputId": "2b8b55de-44f3-40fd-fbfa-3c703dd094b4"
      },
      "source": [
        "import string,sys\r\n",
        "def ispangram(str1, alphabet=string.ascii_lowercase):\r\n",
        "  alphaset = set(alphabet)\r\n",
        "  return alphaset <= set(str1.lower())\r\n",
        "\r\n",
        "print(ispangram('The quick brown fox jumps over the lazy dog'))\r\n"
      ],
      "execution_count": null,
      "outputs": [
        {
          "output_type": "stream",
          "text": [
            "True\n"
          ],
          "name": "stdout"
        }
      ]
    }
  ]
}