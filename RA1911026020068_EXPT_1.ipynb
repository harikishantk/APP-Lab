{
  "nbformat": 4,
  "nbformat_minor": 0,
  "metadata": {
    "colab": {
      "name": "RA1911026020068 EXPT-1.ipynb",
      "provenance": [],
      "authorship_tag": "ABX9TyO7SgqRcUrOxbPGUkVWdx5G",
      "include_colab_link": true
    },
    "kernelspec": {
      "name": "python3",
      "display_name": "Python 3"
    }
  },
  "cells": [
    {
      "cell_type": "markdown",
      "metadata": {
        "id": "view-in-github",
        "colab_type": "text"
      },
      "source": [
        "<a href=\"https://colab.research.google.com/github/harikishantk/APP-Lab/blob/main/RA1911026020068_EXPT_1.ipynb\" target=\"_parent\"><img src=\"https://colab.research.google.com/assets/colab-badge.svg\" alt=\"Open In Colab\"/></a>"
      ]
    },
    {
      "cell_type": "code",
      "metadata": {
        "colab": {
          "base_uri": "https://localhost:8080/"
        },
        "id": "4ox32_EKMyJj",
        "outputId": "7e94af06-411f-4bfe-cefa-f2fdbb74f270"
      },
      "source": [
        "user = str\r\n",
        "end = \"0\"\r\n",
        "hours = round(40,2)\r\n",
        "print(\"One Stop Shop Payroll Calculator\")\r\n",
        "while user!= end:\r\n",
        "  user = input(\"Please enter your name or type'0' to quit:\")\r\n",
        "  if user == end:\r\n",
        "    print(\"End of Report\")\r\n",
        "  else:\r\n",
        "    hours = float(input(\"Please enter hours worked: \",))\r\n",
        "    payrate = float(input(\"Please enter your payrate:$\",))\r\n",
        "    if hours < 40:\r\n",
        "      print(\"Employee's name:\", user)\r\n",
        "      print(\"Overtime hours: 0\")\r\n",
        "      print(\"Overtime Pay: $0.00\")\r\n",
        "      regularpay = round(hours * payrate,2)\r\n",
        "      print(\"Gross Pay: $\", regularpay)\r\n",
        "    elif hours > 40:\r\n",
        "      overtimehours = round(hours - 40.00,2)\r\n",
        "      print(\"Overtime hours: \", overtimehours)\r\n",
        "      print(\"Employee's name: \", user)\r\n",
        "      regularpay = round(hours*payrate,2)\r\n",
        "      overtimerate = round(payrate * 1.5,2)\r\n",
        "      overtimepay = round(overtimehours * overtimerate)\r\n",
        "      grosspay = round(regularpay+overtimepay,2)\r\n",
        "      print(\"Regular Pay: $\",regularpay)\r\n",
        "      print(\"Overtime Pay: $\",overtimepay)\r\n",
        "      print(\"Gross Pay: $\",grosspay)"
      ],
      "execution_count": null,
      "outputs": [
        {
          "output_type": "stream",
          "text": [
            "One Stop Shop Payroll Calculator\n",
            "Please enter your name or type'0' to quit:Hari\n",
            "Please enter hours worked: 50\n",
            "Please enter your payrate:$10\n",
            "Overtime hours:  10.0\n",
            "Employee's name:  Hari\n",
            "Regular Pay: $ 500.0\n",
            "Overtime Pay: $ 150\n",
            "Gross Pay: $ 650.0\n",
            "Please enter your name or type'0' to quit:Hari\n",
            "Please enter hours worked: 30\n",
            "Please enter your payrate:$10\n",
            "Employee's name: Hari\n",
            "Overtime hours: 0\n",
            "Overtime Pay: $0.00\n",
            "Gross Pay: $ 300.0\n",
            "Please enter your name or type'0' to quit:0\n",
            "End of Report\n"
          ],
          "name": "stdout"
        }
      ]
    },
    {
      "cell_type": "code",
      "metadata": {
        "colab": {
          "base_uri": "https://localhost:8080/"
        },
        "id": "PeD8cE5ePQtW",
        "outputId": "6848e87c-6caa-4806-a8ba-3da5df7b294b"
      },
      "source": [
        "p = 1000\r\n",
        "r = 10.25\r\n",
        "t = 5\r\n",
        "amt = p * (pow((1+r/100),t))\r\n",
        "CI = amt - p\r\n",
        "print(\"Compund interest is\",CI)"
      ],
      "execution_count": null,
      "outputs": [
        {
          "output_type": "stream",
          "text": [
            "Compund interest is 628.8946267774415\n"
          ],
          "name": "stdout"
        }
      ]
    },
    {
      "cell_type": "code",
      "metadata": {
        "colab": {
          "base_uri": "https://localhost:8080/"
        },
        "id": "QtO38Y6TPglR",
        "outputId": "7bfbdc3c-5ad2-4120-cc49-4535152749c7"
      },
      "source": [
        "num = 76542\r\n",
        "reverse_num = 0\r\n",
        "print(\"Given Number\", num)\r\n",
        "while num > 0:\r\n",
        "  remainder = num % 10\r\n",
        "  reverse_num = (reverse_num * 10) + remainder\r\n",
        "  num = num // 10\r\n",
        "print(\"Reversed Number\", reverse_num)"
      ],
      "execution_count": null,
      "outputs": [
        {
          "output_type": "stream",
          "text": [
            "Given Number 76542\n",
            "Reversed Number 24567\n"
          ],
          "name": "stdout"
        }
      ]
    },
    {
      "cell_type": "code",
      "metadata": {
        "colab": {
          "base_uri": "https://localhost:8080/"
        },
        "id": "TE5sOiwsPzVl",
        "outputId": "109953d2-32c5-4356-c421-681d18fb4739"
      },
      "source": [
        "input_number = 3\r\n",
        "for i in range(1, input_number+1):\r\n",
        "  print(\"Current Number is:\",i,\"and the cube is\",(i*i*i))"
      ],
      "execution_count": null,
      "outputs": [
        {
          "output_type": "stream",
          "text": [
            "Current Number is: 1 and the cube is 1\n",
            "Current Number is: 2 and the cube is 8\n",
            "Current Number is: 3 and the cube is 27\n"
          ],
          "name": "stdout"
        }
      ]
    },
    {
      "cell_type": "code",
      "metadata": {
        "colab": {
          "base_uri": "https://localhost:8080/"
        },
        "id": "uNT814IrP_p0",
        "outputId": "d5950010-5d09-4c60-caaf-0bc55e89dadf"
      },
      "source": [
        "number_of_terms = 5\r\n",
        "start = 2\r\n",
        "sum = 0\r\n",
        "for i in range(0, number_of_terms):\r\n",
        "  sum += start\r\n",
        "  start = (start * 10) + 2\r\n",
        "print(\"\\nSum of above series is:\", sum)"
      ],
      "execution_count": null,
      "outputs": [
        {
          "output_type": "stream",
          "text": [
            "\n",
            "Sum of above series is: 24690\n"
          ],
          "name": "stdout"
        }
      ]
    },
    {
      "cell_type": "code",
      "metadata": {
        "colab": {
          "base_uri": "https://localhost:8080/"
        },
        "id": "Mnr8fJJ3Qvop",
        "outputId": "8cf657c6-3bcc-4a7d-b6e4-56dbf500e92d"
      },
      "source": [
        "X = [[12,7,3],\r\n",
        "     [4,5,6],\r\n",
        "     [7,8,9]]\r\n",
        "Y = [[5,8,1],\r\n",
        "     [6,7,3],\r\n",
        "     [4,5,9]]\r\n",
        "result = [[0,0,0],\r\n",
        "          [0,0,0],\r\n",
        "          [0,0,0]]\r\n",
        "\r\n",
        "for i in range(len(X)):\r\n",
        "  for j in range(len(X[0])):\r\n",
        "    result[i][j] = X[i][j] + Y[i][j]\r\n",
        "  \r\n",
        "for r in result:\r\n",
        "  print(r)"
      ],
      "execution_count": null,
      "outputs": [
        {
          "output_type": "stream",
          "text": [
            "[17, 15, 4]\n",
            "[10, 12, 9]\n",
            "[11, 13, 18]\n"
          ],
          "name": "stdout"
        }
      ]
    },
    {
      "cell_type": "code",
      "metadata": {
        "colab": {
          "base_uri": "https://localhost:8080/"
        },
        "id": "Nvo4UeoCSC55",
        "outputId": "998bc5eb-9ec6-41ce-f33d-bfeb0104c49d"
      },
      "source": [
        "r = 5\r\n",
        "for i in range(0, r):\r\n",
        "  for j in range(0, i+1):\r\n",
        "    print(\"*\", end='')\r\n",
        "  print(\"\\r\")\r\n",
        "\r\n",
        "for i in range(r-1,0,-1):\r\n",
        "  for j in range(0,i):\r\n",
        "    print(\"*\", end='')\r\n",
        "  print(\"\\r\")"
      ],
      "execution_count": null,
      "outputs": [
        {
          "output_type": "stream",
          "text": [
            "*\r\n",
            "**\r\n",
            "***\r\n",
            "****\r\n",
            "*****\r\n",
            "****\r\n",
            "***\r\n",
            "**\r\n",
            "*\r\n"
          ],
          "name": "stdout"
        }
      ]
    },
    {
      "cell_type": "code",
      "metadata": {
        "colab": {
          "base_uri": "https://localhost:8080/"
        },
        "id": "eScK9havSUr5",
        "outputId": "e0f41906-f4d1-440e-c24b-4dcf4750edc4"
      },
      "source": [
        "kilometers = float(input(\"Enter value in kilometers:\"))\r\n",
        "conv_fac = 0.621371\r\n",
        "miles = kilometers * conv_fac\r\n",
        "print(\"%0.2f kilometers is equal to %0.2f miles\" %(kilometers, miles))"
      ],
      "execution_count": null,
      "outputs": [
        {
          "output_type": "stream",
          "text": [
            "Enter value in kilometers:3.5\n",
            "3.50 kilometers is equal to 2.17 miles\n"
          ],
          "name": "stdout"
        }
      ]
    }
  ]
}